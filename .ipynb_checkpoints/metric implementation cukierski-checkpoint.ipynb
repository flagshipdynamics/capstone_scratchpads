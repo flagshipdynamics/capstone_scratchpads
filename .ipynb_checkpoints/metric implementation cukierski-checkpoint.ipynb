{
 "cells": [
  {
   "cell_type": "markdown",
   "metadata": {
    "_cell_guid": "5cb12f78-e5a9-47d9-bcfd-ca322744c2ce",
    "_uuid": "2903ba531fb15d3943b80f28774e0d24d0377741"
   },
   "source": [
    "This is an example notebook to demonstrate how the IoU metric works for a single image. Please note: this is not the official scoring implementation, but should work in the same manner."
   ]
  },
  {
   "cell_type": "code",
   "execution_count": 2,
   "metadata": {
    "_cell_guid": "1b889269-1027-4261-a3e9-54f75223571b",
    "_uuid": "3fd84142326a40f5f7ba094ce49c125d5a95837b"
   },
   "outputs": [
    {
     "ename": "ValueError",
     "evalue": "Image dimensions must agree.",
     "output_type": "error",
     "traceback": [
      "\u001b[0;31m---------------------------------------------------------------------------\u001b[0m",
      "\u001b[0;31mValueError\u001b[0m                                Traceback (most recent call last)",
      "\u001b[0;32m<ipython-input-2-c9dd11df4273>\u001b[0m in \u001b[0;36m<module>\u001b[0;34m()\u001b[0m\n\u001b[1;32m     10\u001b[0m \u001b[0mmasks\u001b[0m \u001b[0;34m=\u001b[0m \u001b[0;34m\"/Users/brandonpippin/Documents/Kaggle/DataBowl2018/stage1_test/{}/masks/*.png\"\u001b[0m\u001b[0;34m.\u001b[0m\u001b[0mformat\u001b[0m\u001b[0;34m(\u001b[0m\u001b[0mid\u001b[0m\u001b[0;34m)\u001b[0m\u001b[0;34m\u001b[0m\u001b[0m\n\u001b[1;32m     11\u001b[0m \u001b[0mimage\u001b[0m \u001b[0;34m=\u001b[0m \u001b[0mskimage\u001b[0m\u001b[0;34m.\u001b[0m\u001b[0mio\u001b[0m\u001b[0;34m.\u001b[0m\u001b[0mimread\u001b[0m\u001b[0;34m(\u001b[0m\u001b[0mfile\u001b[0m\u001b[0;34m)\u001b[0m\u001b[0;34m\u001b[0m\u001b[0m\n\u001b[0;32m---> 12\u001b[0;31m \u001b[0mmasks\u001b[0m \u001b[0;34m=\u001b[0m \u001b[0mskimage\u001b[0m\u001b[0;34m.\u001b[0m\u001b[0mio\u001b[0m\u001b[0;34m.\u001b[0m\u001b[0mimread_collection\u001b[0m\u001b[0;34m(\u001b[0m\u001b[0mmasks\u001b[0m\u001b[0;34m)\u001b[0m\u001b[0;34m.\u001b[0m\u001b[0mconcatenate\u001b[0m\u001b[0;34m(\u001b[0m\u001b[0;34m)\u001b[0m\u001b[0;34m\u001b[0m\u001b[0m\n\u001b[0m\u001b[1;32m     13\u001b[0m \u001b[0mheight\u001b[0m\u001b[0;34m,\u001b[0m \u001b[0mwidth\u001b[0m\u001b[0;34m,\u001b[0m \u001b[0m_\u001b[0m \u001b[0;34m=\u001b[0m \u001b[0mimage\u001b[0m\u001b[0;34m.\u001b[0m\u001b[0mshape\u001b[0m\u001b[0;34m\u001b[0m\u001b[0m\n\u001b[1;32m     14\u001b[0m \u001b[0mnum_masks\u001b[0m \u001b[0;34m=\u001b[0m \u001b[0mmasks\u001b[0m\u001b[0;34m.\u001b[0m\u001b[0mshape\u001b[0m\u001b[0;34m[\u001b[0m\u001b[0;36m0\u001b[0m\u001b[0;34m]\u001b[0m\u001b[0;34m\u001b[0m\u001b[0m\n",
      "\u001b[0;32m/Users/brandonpippin/anaconda/lib/python2.7/site-packages/skimage/io/collection.pyc\u001b[0m in \u001b[0;36mconcatenate\u001b[0;34m(self)\u001b[0m\n\u001b[1;32m    347\u001b[0m             \u001b[0mIf\u001b[0m \u001b[0mimages\u001b[0m \u001b[0;32min\u001b[0m \u001b[0mthe\u001b[0m \u001b[0;34m`\u001b[0m\u001b[0mImageCollection\u001b[0m\u001b[0;34m`\u001b[0m \u001b[0mdon\u001b[0m\u001b[0;31m'\u001b[0m\u001b[0mt\u001b[0m \u001b[0mhave\u001b[0m \u001b[0midentical\u001b[0m \u001b[0mshapes\u001b[0m\u001b[0;34m.\u001b[0m\u001b[0;34m\u001b[0m\u001b[0m\n\u001b[1;32m    348\u001b[0m         \"\"\"\n\u001b[0;32m--> 349\u001b[0;31m         \u001b[0;32mreturn\u001b[0m \u001b[0mconcatenate_images\u001b[0m\u001b[0;34m(\u001b[0m\u001b[0mself\u001b[0m\u001b[0;34m)\u001b[0m\u001b[0;34m\u001b[0m\u001b[0m\n\u001b[0m\u001b[1;32m    350\u001b[0m \u001b[0;34m\u001b[0m\u001b[0m\n\u001b[1;32m    351\u001b[0m \u001b[0;34m\u001b[0m\u001b[0m\n",
      "\u001b[0;32m/Users/brandonpippin/anaconda/lib/python2.7/site-packages/skimage/io/collection.pyc\u001b[0m in \u001b[0;36mconcatenate_images\u001b[0;34m(ic)\u001b[0m\n\u001b[1;32m     45\u001b[0m         \u001b[0mar\u001b[0m \u001b[0;34m=\u001b[0m \u001b[0mnp\u001b[0m\u001b[0;34m.\u001b[0m\u001b[0mconcatenate\u001b[0m\u001b[0;34m(\u001b[0m\u001b[0mall_images\u001b[0m\u001b[0;34m)\u001b[0m\u001b[0;34m\u001b[0m\u001b[0m\n\u001b[1;32m     46\u001b[0m     \u001b[0;32mexcept\u001b[0m \u001b[0mValueError\u001b[0m\u001b[0;34m:\u001b[0m\u001b[0;34m\u001b[0m\u001b[0m\n\u001b[0;32m---> 47\u001b[0;31m         \u001b[0;32mraise\u001b[0m \u001b[0mValueError\u001b[0m\u001b[0;34m(\u001b[0m\u001b[0;34m'Image dimensions must agree.'\u001b[0m\u001b[0;34m)\u001b[0m\u001b[0;34m\u001b[0m\u001b[0m\n\u001b[0m\u001b[1;32m     48\u001b[0m     \u001b[0;32mreturn\u001b[0m \u001b[0mar\u001b[0m\u001b[0;34m\u001b[0m\u001b[0m\n\u001b[1;32m     49\u001b[0m \u001b[0;34m\u001b[0m\u001b[0m\n",
      "\u001b[0;31mValueError\u001b[0m: Image dimensions must agree."
     ]
    }
   ],
   "source": [
    "%matplotlib inline\n",
    "import numpy as np\n",
    "import skimage.io\n",
    "import matplotlib.pyplot as plt\n",
    "import skimage.segmentation\n",
    "\n",
    "# Load a single image and its associated masks\n",
    "id = '0a7d30b252359a10fd298b638b90cb9ada3acced4e0c0e5a3692013f432ee4e9'\n",
    "file = \"/Users/brandonpippin/Documents/Kaggle/DataBowl2018/stage1_train/{}/images/{}.png\".format(id,id)\n",
    "masks = \"/Users/brandonpippin/Documents/Kaggle/DataBowl2018/stage1_train/{}/masks/*.png\".format(id)\n",
    "image = skimage.io.imread(file)\n",
    "masks = skimage.io.imread_collection(masks).concatenate()\n",
    "height, width, _ = image.shape\n",
    "num_masks = masks.shape[0]\n",
    "\n",
    "# Make a ground truth label image (pixel value is index of object label)\n",
    "labels = np.zeros((height, width), np.uint16)\n",
    "for index in range(0, num_masks):\n",
    "    labels[masks[index] > 0] = index + 1\n",
    "\n",
    "# Show label image\n",
    "fig = plt.figure()\n",
    "plt.imshow(image)\n",
    "plt.title(\"Original image\")\n",
    "fig = plt.figure()\n",
    "plt.imshow(labels)\n",
    "plt.title(\"Ground truth masks\")\n",
    "\n",
    "# Simulate an imperfect submission\n",
    "offset = 2 # offset pixels\n",
    "y_pred = labels[offset:, offset:]\n",
    "y_pred = np.pad(y_pred, ((0, offset), (0, offset)), mode=\"constant\")\n",
    "y_pred[y_pred == 20] = 0 # Remove one object\n",
    "y_pred, _, _ = skimage.segmentation.relabel_sequential(y_pred) # Relabel objects\n",
    "\n",
    "# Show simulated predictions\n",
    "fig = plt.figure()\n",
    "plt.imshow(y_pred)\n",
    "plt.title(\"Simulated imperfect submission\")\n",
    "\n",
    "# Compute number of objects\n",
    "true_objects = len(np.unique(labels))\n",
    "pred_objects = len(np.unique(y_pred))\n",
    "print(\"Number of true objects:\", true_objects)\n",
    "print(\"Number of predicted objects:\", pred_objects)\n",
    "\n",
    "# Compute intersection between all objects\n",
    "intersection = np.histogram2d(labels.flatten(), y_pred.flatten(), bins=(true_objects, pred_objects))[0]\n",
    "\n",
    "# Compute areas (needed for finding the union between all objects)\n",
    "area_true = np.histogram(labels, bins = true_objects)[0]\n",
    "area_pred = np.histogram(y_pred, bins = pred_objects)[0]\n",
    "area_true = np.expand_dims(area_true, -1)\n",
    "area_pred = np.expand_dims(area_pred, 0)\n",
    "\n",
    "# Compute union\n",
    "union = area_true + area_pred - intersection\n",
    "\n",
    "# Exclude background from the analysis\n",
    "intersection = intersection[1:,1:]\n",
    "union = union[1:,1:]\n",
    "union[union == 0] = 1e-9\n",
    "\n",
    "# Compute the intersection over union\n",
    "iou = intersection / union\n",
    "\n",
    "# Precision helper function\n",
    "def precision_at(threshold, iou):\n",
    "    matches = iou > threshold\n",
    "    true_positives = np.sum(matches, axis=1) == 1   # Correct objects\n",
    "    false_positives = np.sum(matches, axis=0) == 0  # Missed objects\n",
    "    false_negatives = np.sum(matches, axis=1) == 0  # Extra objects\n",
    "    tp, fp, fn = np.sum(true_positives), np.sum(false_positives), np.sum(false_negatives)\n",
    "    return tp, fp, fn\n",
    "\n",
    "# Loop over IoU thresholds\n",
    "prec = []\n",
    "print(\"Thresh\\tTP\\tFP\\tFN\\tPrec.\")\n",
    "for t in np.arange(0.5, 1.0, 0.05):\n",
    "    tp, fp, fn = precision_at(t, iou)\n",
    "    p = tp / (tp + fp + fn)\n",
    "    print(\"{:1.3f}\\t{}\\t{}\\t{}\\t{:1.3f}\".format(t, tp, fp, fn, p))\n",
    "    prec.append(p)\n",
    "print(\"AP\\t-\\t-\\t-\\t{:1.3f}\".format(np.mean(prec)))"
   ]
  },
  {
   "cell_type": "code",
   "execution_count": null,
   "metadata": {
    "_cell_guid": "bc357ad2-d10c-4f5b-9f6a-55d47336779f",
    "_uuid": "542d2b226d90fc13cc852979f529962387873420",
    "collapsed": true
   },
   "outputs": [],
   "source": []
  }
 ],
 "metadata": {
  "kernelspec": {
   "display_name": "Python 2",
   "language": "python",
   "name": "python2"
  },
  "language_info": {
   "codemirror_mode": {
    "name": "ipython",
    "version": 2
   },
   "file_extension": ".py",
   "mimetype": "text/x-python",
   "name": "python",
   "nbconvert_exporter": "python",
   "pygments_lexer": "ipython2",
   "version": "2.7.14"
  }
 },
 "nbformat": 4,
 "nbformat_minor": 1
}
